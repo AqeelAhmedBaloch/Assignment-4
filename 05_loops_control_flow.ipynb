{
  "nbformat": 4,
  "nbformat_minor": 0,
  "metadata": {
    "colab": {
      "provenance": [],
      "authorship_tag": "ABX9TyOUpxFtv5oW+q0Z6hF/Vu+j",
      "include_colab_link": true
    },
    "kernelspec": {
      "name": "python3",
      "display_name": "Python 3"
    },
    "language_info": {
      "name": "python"
    }
  },
  "cells": [
    {
      "cell_type": "markdown",
      "metadata": {
        "id": "view-in-github",
        "colab_type": "text"
      },
      "source": [
        "<a href=\"https://colab.research.google.com/github/AqeelAhmedBaloch/Assignment-4/blob/main/05_loops_control_flow.ipynb\" target=\"_parent\"><img src=\"https://colab.research.google.com/assets/colab-badge.svg\" alt=\"Open In Colab\"/></a>"
      ]
    },
    {
      "cell_type": "code",
      "execution_count": null,
      "metadata": {
        "id": "c1AAr-SRREYG"
      },
      "outputs": [],
      "source": [
        "import random\n",
        "print(\"00_guess_my_number\\n\")\n",
        "\n",
        "def main():\n",
        "    secret_number = random.randint(1, 100)\n",
        "    print(\"I am thinking of a number between 1 and 100... \")\n",
        "\n",
        "    guess = int(input(\"Enter a guess...: \"))\n",
        "    while guess != secret_number:\n",
        "        if guess < secret_number:\n",
        "            print(\"Your guess is Too low!...:\")\n",
        "        else:\n",
        "            print(\"Your guess is Too high!...:\")\n",
        "        guess = int(input(\"Enter a guess...: \"))\n",
        "    print(f\"Congratulation! the number was...: {secret_number}\")\n",
        "\n",
        "if __name__ == \"__main__\":\n",
        "    main()"
      ]
    },
    {
      "cell_type": "code",
      "source": [
        "print(\"01_fibonacci\\n\")\n",
        "\n",
        "max_value = 10000\n",
        "\n",
        "def main():\n",
        "    a,b = 0,1\n",
        "    print(a,b, end=\" \")\n",
        "\n",
        "    while True:\n",
        "        c = a + b\n",
        "        if c > max_value:\n",
        "            break\n",
        "        print(c, end=\" \")\n",
        "        a,b = b,c\n",
        "\n",
        "if __name__ == \"__main__\":\n",
        "    main()"
      ],
      "metadata": {
        "id": "VTpxWz8wTiFS"
      },
      "execution_count": null,
      "outputs": []
    },
    {
      "cell_type": "code",
      "source": [
        "print(\"02_print_events\\n\")\n",
        "\n",
        "def main():\n",
        "    for i in range(20):\n",
        "        print(i*2)\n",
        "\n",
        "if __name__ == \"__main__\":\n",
        "    main()"
      ],
      "metadata": {
        "id": "86G0yU38WP5l"
      },
      "execution_count": null,
      "outputs": []
    },
    {
      "cell_type": "code",
      "source": [
        "print(\"03_wholesome_machine\\n\")\n",
        "\n",
        "correct_affermation = \"I am capable doing anything. I put my mind too\"\n",
        "\n",
        "def main():\n",
        "    print(\"Welcome to the wholesome machine\")\n",
        "    while True:\n",
        "        user_input = input(\"Please type the following affirmation \" + correct_affermation + \": \")\n",
        "\n",
        "        if user_input == correct_affermation:\n",
        "            print(\"That's right \")\n",
        "            break\n",
        "        else:\n",
        "            print(\"That was not the affermation. Please try again.\")\n",
        "\n",
        "if __name__ == \"__main__\":\n",
        "    main()"
      ],
      "metadata": {
        "id": "pQIFwO65Y5EC"
      },
      "execution_count": null,
      "outputs": []
    },
    {
      "cell_type": "code",
      "source": [
        "print(\"04_liftoff\\n\")\n",
        "\n",
        "def main():\n",
        "    for i in range(10, 0, -1):\n",
        "        print(i, end=\" \")\n",
        "    print(\"Liftoff!🚀\")\n",
        "\n",
        "if __name__ == \"__main__\":\n",
        "    main()"
      ],
      "metadata": {
        "id": "KknIc6YGZ12w"
      },
      "execution_count": null,
      "outputs": []
    },
    {
      "cell_type": "code",
      "source": [
        "print(\"05_double_it\\n\")\n",
        "\n",
        "def main():\n",
        "    user_input = int(input(\"Enter a number: \"))\n",
        "    while user_input < 100:\n",
        "        user_input = user_input * 2\n",
        "        print(user_input)\n",
        "\n",
        "if __name__ == \"__main__\":\n",
        "    main()"
      ],
      "metadata": {
        "id": "8yL_mVcwajuw"
      },
      "execution_count": null,
      "outputs": []
    }
  ]
}