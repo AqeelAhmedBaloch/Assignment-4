{
  "nbformat": 4,
  "nbformat_minor": 0,
  "metadata": {
    "colab": {
      "provenance": [],
      "authorship_tag": "ABX9TyPZVyAynX5HC6HoxIR3IFsU",
      "include_colab_link": true
    },
    "kernelspec": {
      "name": "python3",
      "display_name": "Python 3"
    },
    "language_info": {
      "name": "python"
    }
  },
  "cells": [
    {
      "cell_type": "markdown",
      "metadata": {
        "id": "view-in-github",
        "colab_type": "text"
      },
      "source": [
        "<a href=\"https://colab.research.google.com/github/AqeelAhmedBaloch/Assignment-4/blob/main/02_intermediate_Control_Flow_for_Console.ipynb\" target=\"_parent\"><img src=\"https://colab.research.google.com/assets/colab-badge.svg\" alt=\"Open In Colab\"/></a>"
      ]
    },
    {
      "cell_type": "code",
      "execution_count": null,
      "metadata": {
        "id": "--Ry7U-uJIYw"
      },
      "outputs": [],
      "source": [
        "import random\n",
        "print(\"High Low Game\\n\")\n",
        "\n",
        "round = 5\n",
        "\n",
        "def main():\n",
        "    print(\"Welcome to the High Low Game\")\n",
        "    print(\"****************************\")\n",
        "\n",
        "    your_score = 0\n",
        "\n",
        "    for i in range(round):\n",
        "        print(\"Round \", i + 1)\n",
        "        computer_number: int = random.randint(1, 100)\n",
        "        your_number: int = random.randint(1, 100)\n",
        "        print(\"Your number is :\", your_number)\n",
        "\n",
        "        choice: str = input(\"Do you think your number is higher or lower than the computer's numbers? \")\n",
        "        higher_and_correct: bool = choice == \"higher\" and your_number > computer_number\n",
        "        lower_and_correct: bool = choice == \"lower\" and your_number < computer_number\n",
        "\n",
        "        if higher_and_correct or lower_and_correct:\n",
        "            print(\"You were right! The computer's number was:\", computer_number)\n",
        "            your_score += 1\n",
        "        else:\n",
        "            print(\"That's incorrect. The Computer's Number was\", computer_number)\n",
        "\n",
        "        print(\"Your score is now\", your_score)\n",
        "        print()\n",
        "\n",
        "    print(\"Thanks for playing!\")\n",
        "\n",
        "if __name__ == \"__main__\":\n",
        "    main()"
      ]
    },
    {
      "cell_type": "code",
      "source": [
        "print(\"Planetary Weight Calculator\\n\")\n",
        "\n",
        "def main():\n",
        "    print(\"******************************************\")\n",
        "    print(\"Welcome to the Planetary Weight Calculator\")\n",
        "    print(\"******************************************\")\n",
        "\n",
        "earth_weight = float(input(\"Enter Your Weight on Earth...: \"))\n",
        "gravity_ratios = {\n",
        "        \"Mercury\": 0.38,\n",
        "        \"Venus\" : 0.91,\n",
        "        \"Mars\": 0.38,\n",
        "        \"Jupiter\": 2.43,\n",
        "        \"Saturn\": 1.06,\n",
        "        \"Uranus\": 0.92,\n",
        "        \"Neptune\": 1.19\n",
        "    }\n",
        "\n",
        "print(\"\\n Select a Planet...\")\n",
        "for planet in gravity_ratios:\n",
        "        print(f'- {planet}')\n",
        "\n",
        "planet_choice = input(\"Enter the name of the planet...: \").title()\n",
        "\n",
        "if planet_choice in gravity_ratios:\n",
        "        new_weight = earth_weight * gravity_ratios[planet_choice]\n",
        "        print(f'Your weight on {planet_choice} is {new_weight:.2f}kg')\n",
        "else:\n",
        "        print(\"Invalid planet choice\")\n",
        "\n",
        "if __name__ == \"__main__\":\n",
        "    main()\n"
      ],
      "metadata": {
        "id": "wevBpaSoG-R2"
      },
      "execution_count": null,
      "outputs": []
    },
    {
      "cell_type": "code",
      "source": [
        "print(\"Lists and Dicts\\n\")\n",
        "\n",
        "my_list = [\"apple\",\"mango\",\"orange\",\"pear\",\"peach\"]\n",
        "\n",
        "def access_element(my_list, index):\n",
        "    \"\"\"Returns the element the specified index, or an error message if out of range.\"\"\"\n",
        "    if 0 <= index < len(my_list):\n",
        "        return f'Element at index {index} : {my_list[index]}'\n",
        "    return \"Index out of range\"\n",
        "\n",
        "def modify_element(my_list, index , new_value):\n",
        "    \"\"\"Modifies the element at the specified index, or an error massage if out of range.\"\"\"\n",
        "    if 0 <= index < len(my_list):\n",
        "        old_value = my_list[index]\n",
        "        my_list[index] = new_value\n",
        "        return f'Element at index {index} modified from {old_value} to {new_value}'\n",
        "    return \"index out of range\"\n",
        "\n",
        "def slice_list(my_list, start, end):\n",
        "    \"\"\"Return a new list containing the elements from the start index to the end index (exclusive)\"\"\"\n",
        "    if 0 <= start < len(my_list) and 0 <= end <= len(my_list):\n",
        "        return f'Slice List: {my_list[start:end]}'\n",
        "    return (\"Invalid slice indicates!\")\n",
        "\n",
        "def list_game():\n",
        "    print(\"\\n Welcome to the List manipulation\")\n",
        "    my_list = [\"apple\",\"mango\",\"orange\",\"pear\",\"peach\"]\n",
        "\n",
        "    while True:\n",
        "        print('\\n Current List:', my_list)\n",
        "        print(\"Select and Operation\")\n",
        "        print(\"1. Access Element\")\n",
        "        print(\"2. Modify Element\")\n",
        "        print(\"3. Slice List\")\n",
        "        print(\"4. Quit\")\n",
        "\n",
        "        choice = input(\"Enter your choice (1 - 4): \")\n",
        "\n",
        "        if choice == \"1\":\n",
        "            index = int(input(\"Enter the index of the element you want to access: \"))\n",
        "            print(access_element(my_list, index))\n",
        "        elif choice == \"2\":\n",
        "            index = int(input(\"Enter the index of the element you want to modify: \"))\n",
        "            new_value = input(\"Enter the new Value for the element...: \")\n",
        "            print(modify_element(my_list, index, new_value))\n",
        "        elif choice == \"3\":\n",
        "            start = int(input(\"Enter the start index for the slice...: \"))\n",
        "            end = int(input(\"Enter the end index for the slice...: \"))\n",
        "            print(slice_list(my_list, start, end))\n",
        "        elif choice == \"4\":\n",
        "            print(\"Exiting the Game Thank's for playing!\")\n",
        "            break\n",
        "        else:\n",
        "            print(\"Invalid Choice please enter a number between 1 to 4\")\n",
        "\n",
        "if __name__ == \"__main__\":\n",
        "    list_game()"
      ],
      "metadata": {
        "id": "psmg-Cm0-Msx"
      },
      "execution_count": null,
      "outputs": []
    }
  ]
}