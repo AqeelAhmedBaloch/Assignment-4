{
  "cells": [
    {
      "cell_type": "markdown",
      "metadata": {
        "id": "view-in-github",
        "colab_type": "text"
      },
      "source": [
        "<a href=\"https://colab.research.google.com/github/AqeelAhmedBaloch/Assignment-4/blob/main/04_dictionaries.ipynb\" target=\"_parent\"><img src=\"https://colab.research.google.com/assets/colab-badge.svg\" alt=\"Open In Colab\"/></a>"
      ]
    },
    {
      "cell_type": "code",
      "execution_count": null,
      "metadata": {
        "id": "Q72XMt7s-zBL"
      },
      "outputs": [],
      "source": [
        "print(\"00_count_nums\")\n",
        "\n",
        "def count_numbers():\n",
        "  count_dict = {}\n",
        "\n",
        "  while True:\n",
        "    num = input(\"Enter a number (or 'Exit' to quit): \")\n",
        "    if num.lower() == 'Exit':\n",
        "      break\n",
        "    if num.isdigit():\n",
        "      num = int(num)\n",
        "      count_dict[num] = count_dict.get(num, 0) + 1\n",
        "      print(count_dict)\n",
        "    else:\n",
        "      print(\"Invalid input. Please enter a number or 'Exit'.\")\n",
        "      return count_dict\n",
        "\n",
        "def display_counts(count_dict):\n",
        "  print(\"\\n Number Counts:\")\n",
        "  for key,value in count_dict.items():\n",
        "      print(f'{key} appears {value} times')\n",
        "\n",
        "\n",
        "if __name__ == \"__main__\":\n",
        "  count = count_numbers()\n",
        "  display_counts(count)"
      ]
    },
    {
      "cell_type": "code",
      "source": [
        "print(\"01_phonebook\")\n",
        "\n",
        "def add_contact(phone_number):\n",
        "    name = input(\"Enter contact Name...: \")\n",
        "    number = input(\"Enter contact Number...: \")\n",
        "\n",
        "    if name in phone_number:\n",
        "        print(f'{name} already exists in the phone book')\n",
        "    else:\n",
        "        phone_number[name] = number\n",
        "        print(f\"{name} add to the phone book\")\n",
        "\n",
        "def search_contact(phone_number):\n",
        "    name = input(\"Enter contact Name to search ...: \")\n",
        "\n",
        "    if name in phone_number:\n",
        "        print(f'{name} : {phone_number[name]}')\n",
        "    else:\n",
        "        print(f\"{name} not found in the phone book.\")\n",
        "\n",
        "def delete_contact(phone_number):\n",
        "    name = input(\"Enter contact Name to delete ...: \")\n",
        "\n",
        "    if name in phone_number:\n",
        "        del phone_number[name]\n",
        "        print(f\"{name} deleted from the phone book.\")\n",
        "    else:\n",
        "        print(f\"{name} not found in the phone book.\")\n",
        "\n",
        "def display_contact(phone_number):\n",
        "    if phone_number:\n",
        "        print(\"\\n Phone book contacts list\")\n",
        "        for name, number in phone_number.items():\n",
        "            print(f'{name} : {number}')\n",
        "    else:\n",
        "        print(\"Phone book is empty\")\n",
        "\n",
        "if __name__ == \"__main__\":\n",
        "    phone_number = {}\n",
        "    while True:\n",
        "        print(\"\\n Phone book menu\")\n",
        "        print(\"1. Add contact\")\n",
        "        print(\"2. Search contact\")\n",
        "        print(\"3. Delete contact\")\n",
        "        print(\"4. Display contact\")\n",
        "        print(\"5. Exit\")\n",
        "\n",
        "        choice = int(input(\"Enter your choice (1 - 5)...: \"))\n",
        "\n",
        "        if choice == 1:\n",
        "            add_contact(phone_number)\n",
        "        elif choice == 2:\n",
        "            search_contact(phone_number)\n",
        "        elif choice == 3:\n",
        "            delete_contact(phone_number)\n",
        "        elif choice == 4:\n",
        "            display_contact(phone_number)\n",
        "        elif choice == 5:\n",
        "            print(\"Exiting Phone book. Goodbye!\")\n",
        "            break\n",
        "        else:\n",
        "            print(\"Invalid choice. Please enter a number between 1 to 5.\")"
      ],
      "metadata": {
        "id": "N8_VyhdZO0ZG"
      },
      "execution_count": null,
      "outputs": []
    },
    {
      "cell_type": "code",
      "source": [
        "print(\"02_pop_up_shop\\n\")\n",
        "\n",
        "def calculate_total_cost():\n",
        "    fruits_price = {\n",
        "        \"apple\": 5.0,\n",
        "        \"mango\": 15.0,\n",
        "        \"kiwi\": 8.5,\n",
        "        \"pear\": 14.0,\n",
        "        \"banana\": 10.0,\n",
        "        \"orange\": 12.0,\n",
        "    }\n",
        "\n",
        "    total_cost = 0\n",
        "\n",
        "    for fruit, price in fruits_price.items():\n",
        "        while True:\n",
        "            try:\n",
        "                quantity = int(input(f\"How many {fruit} do you want?: \"))\n",
        "                if quantity < 0:\n",
        "                    print(\"Invalid quantity. Please enter a positive integer.\")\n",
        "                    continue\n",
        "                total_cost += price * quantity\n",
        "                break\n",
        "\n",
        "            except ValueError:\n",
        "                print(\"Invalid input. Please enter a valid number.\")\n",
        "\n",
        "        print(f\"\\nYour Total cost is : Rs. {total_cost:.2f}\")\n",
        "\n",
        "if __name__ == \"__main__\":\n",
        "    calculate_total_cost()"
      ],
      "metadata": {
        "id": "j8a7bzhETm38"
      },
      "execution_count": null,
      "outputs": []
    },
    {
      "cell_type": "code",
      "source": [
        "import hashlib\n",
        "\n",
        "print(\"03_powerful_passwords\\n\")\n",
        "\n",
        "def hash_password(password: str) -> str:\n",
        "    return hashlib.sha256(password.encode()).hexdigest()\n",
        "\n",
        "stored_logins = {\n",
        "    \"user@example.com\": hash_password(\"password123\"),\n",
        "    \"admin@example.com\": hash_password(\"admin123\"),\n",
        "}\n",
        "\n",
        "def login(email , password):\n",
        "    if email in stored_logins:\n",
        "        return stored_logins[email] == hash_password(password)\n",
        "    return False\n",
        "\n",
        "if __name__ == \"__main__\":\n",
        "    email = input(\"Enter your email: \")\n",
        "    password = input(\"Enter your password: \")\n",
        "\n",
        "if login(email , password):\n",
        "    print(\"Login successful!\")\n",
        "else:\n",
        "    print(\"Invalid email or password!\")"
      ],
      "metadata": {
        "id": "0Hq0QCaZXW2m"
      },
      "execution_count": null,
      "outputs": []
    }
  ],
  "metadata": {
    "colab": {
      "provenance": [],
      "authorship_tag": "ABX9TyO0mh2GZDaIAyucYCqJIX0U",
      "include_colab_link": true
    },
    "kernelspec": {
      "display_name": "Python 3",
      "name": "python3"
    },
    "language_info": {
      "name": "python"
    }
  },
  "nbformat": 4,
  "nbformat_minor": 0
}