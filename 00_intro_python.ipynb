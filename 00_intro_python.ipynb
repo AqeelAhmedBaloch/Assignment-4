{
  "nbformat": 4,
  "nbformat_minor": 0,
  "metadata": {
    "colab": {
      "provenance": [],
      "authorship_tag": "ABX9TyPdg21dueQh413lZvp9xR15",
      "include_colab_link": true
    },
    "kernelspec": {
      "name": "python3",
      "display_name": "Python 3"
    },
    "language_info": {
      "name": "python"
    }
  },
  "cells": [
    {
      "cell_type": "markdown",
      "metadata": {
        "id": "view-in-github",
        "colab_type": "text"
      },
      "source": [
        "<a href=\"https://colab.research.google.com/github/AqeelAhmedBaloch/Assignment-4/blob/main/00_intro_python.ipynb\" target=\"_parent\"><img src=\"https://colab.research.google.com/assets/colab-badge.svg\" alt=\"Open In Colab\"/></a>"
      ]
    },
    {
      "cell_type": "code",
      "execution_count": null,
      "metadata": {
        "id": "InfrW_A10NXu"
      },
      "outputs": [],
      "source": [
        "print(\"01_add_two_numbers\")\n",
        "\n",
        "def add():\n",
        "    print(\"Add Two Numbers\\n\")\n",
        "    first_number = int(input(\"Enter First Number ...: \"))\n",
        "    second_number = int(input(\"Enter Second Number...: \"))\n",
        "    total = int(first_number + second_number)\n",
        "    print(f'The Total sum of {first_number} and {second_number} is {total}')\n",
        "\n",
        "if __name__ == '__main__':\n",
        "    add()"
      ]
    },
    {
      "cell_type": "code",
      "source": [
        "print(\"02_agreement_bot\\n\")\n",
        "\n",
        "def bot():\n",
        "    animal = str(input(\"What their favorite animal is ?...: \"))\n",
        "    print(f'My favorite animal is also {animal}!')\n",
        "\n",
        "if __name__ == \"__main__\":\n",
        "    bot()"
      ],
      "metadata": {
        "id": "WKw68tw40bbY"
      },
      "execution_count": null,
      "outputs": []
    },
    {
      "cell_type": "code",
      "source": [
        "print(\"03_fahrenheit_to_celsius\")\n",
        "\n",
        "def temp():\n",
        "    print(\"This code for converting Fahrenheit to Celsius\")\n",
        "    fahrenheit_degree = float(input(\"Enter your Fahrenheit degree..: \"))\n",
        "    celsius_degree = (fahrenheit_degree - 32) * 5.0/9.0\n",
        "    print(f'Temperature {fahrenheit_degree} = {celsius_degree}')\n",
        "if __name__ == '__main__':\n",
        "    temp()"
      ],
      "metadata": {
        "id": "PZ2q_5d40e3h"
      },
      "execution_count": null,
      "outputs": []
    },
    {
      "cell_type": "code",
      "source": [
        "print(\"04_how_old_are_they\\n\")\n",
        "\n",
        "def ages():\n",
        "    anton:int = 21\n",
        "    beth:int = anton + 6\n",
        "    chen:int = beth + 20\n",
        "    drew:int = chen + anton\n",
        "    ethan:int = chen\n",
        "\n",
        "    print(\"Anton is..: \" + str(anton))\n",
        "    print(\"Beth  is..: \" + str(beth))\n",
        "    print(\"Chen  is..: \" + str(chen))\n",
        "    print(\"Drew  is..: \" + str(drew))\n",
        "    print(\"Ethan is..: \" + str(ethan))\n",
        "    print(\"\\n\")\n",
        "\n",
        "if __name__ == \"__main__\":\n",
        "    ages()"
      ],
      "metadata": {
        "id": "nsi0_vab0hqS"
      },
      "execution_count": null,
      "outputs": []
    },
    {
      "cell_type": "code",
      "source": [
        "print(\"05_triangle_perimeter\\n\")\n",
        "def triangle():\n",
        "    print(\"This code is about sum of triangle sides\\n\")\n",
        "\n",
        "    side1: float = float(input(\"Enter your first side no of triangle...: \"))\n",
        "    side2: float = float(input(\"Enter your second side no of triangle..: \"))\n",
        "    side3: float = float(input(\"Enter your third side no of triangle...: \"))\n",
        "\n",
        "    total: float = float(side1 + side2 + side3)\n",
        "\n",
        "    print(f'The sum of {side1}, {side2} and {side3} is {total}')\n",
        "\n",
        "\n",
        "if __name__ == '__main__':\n",
        "    triangle()"
      ],
      "metadata": {
        "id": "IkWNNb7m0m5G"
      },
      "execution_count": null,
      "outputs": []
    },
    {
      "cell_type": "code",
      "source": [
        "print(\"06_square_number\\n\")\n",
        "\n",
        "def square():\n",
        "    print(\"This code is about Square of given number\")\n",
        "    num1:int = int(input(\"Enter any number and i will give you a square value...: \"))\n",
        "    print(f'The Square of {num1} is: {num1**2}')\n",
        "\n",
        "if __name__ == '__main__':\n",
        "    square()"
      ],
      "metadata": {
        "id": "Z8CVDYJl0qD9"
      },
      "execution_count": null,
      "outputs": []
    }
  ]
}