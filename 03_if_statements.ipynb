{
  "nbformat": 4,
  "nbformat_minor": 0,
  "metadata": {
    "colab": {
      "provenance": [],
      "authorship_tag": "ABX9TyOzp6S6mtn28OYteMvoSYwB",
      "include_colab_link": true
    },
    "kernelspec": {
      "name": "python3",
      "display_name": "Python 3"
    },
    "language_info": {
      "name": "python"
    }
  },
  "cells": [
    {
      "cell_type": "markdown",
      "metadata": {
        "id": "view-in-github",
        "colab_type": "text"
      },
      "source": [
        "<a href=\"https://colab.research.google.com/github/AqeelAhmedBaloch/Assignment-4/blob/main/03_if_statements.ipynb\" target=\"_parent\"><img src=\"https://colab.research.google.com/assets/colab-badge.svg\" alt=\"Open In Colab\"/></a>"
      ]
    },
    {
      "cell_type": "code",
      "execution_count": null,
      "metadata": {
        "id": "69s6tNVy6zdG"
      },
      "outputs": [],
      "source": [
        "print(\"01_print_events\\n\")\n",
        "\n",
        "def even():\n",
        "    for i in range(40):\n",
        "        even = i * 2\n",
        "        print(even)\n",
        "        # print(\"Here is 20 even numbers are...: \", i * 2)\n",
        "\n",
        "if __name__ == \"__main__\":\n",
        "    even()"
      ]
    },
    {
      "cell_type": "code",
      "source": [
        "print(\"02_international_voting_age\\n\")\n",
        "\n",
        "Peturksbouipo:int = 16\n",
        "Stanlau:int = 25\n",
        "Mayengua:int = 48\n",
        "age:int = int(input(\"How old are you?..: \"))\n",
        "def main():\n",
        "\n",
        "    if age >= Peturksbouipo:\n",
        "        print(f\"Your age is {age} you are eligible to vote in Peturksbouipo!\")\n",
        "    else:\n",
        "        print(f\"Your age is {age} you are not eligible to vote in Peturksbouipo!\")\n",
        "\n",
        "    if age >= Stanlau:\n",
        "        print(f\"Your age is {age} you are eligible to vote in Stanlau!\")\n",
        "    else:\n",
        "        print(f\"Your age is {age} you are not eligible to vote in Stanlau!\")\n",
        "\n",
        "    if age >= Mayengua:\n",
        "        print(f\"Your age is {age} you are eligible to vote in Mayengua!\")\n",
        "    else:\n",
        "        print(f\"Your age is {age} you are not eligible to vote in Mayengua!\\n\")\n",
        "\n",
        "\n",
        "if __name__ == \"__main__\":\n",
        "    main()"
      ],
      "metadata": {
        "id": "1seTKjlL64Jw"
      },
      "execution_count": null,
      "outputs": []
    },
    {
      "cell_type": "code",
      "source": [
        "print(\"03_leap_year\\n\")\n",
        "\n",
        "def leap_year():\n",
        "    year: int = int(input(\"Enter a year...: \"))\n",
        "\n",
        "    if year % 4 == 0:\n",
        "        if year % 100 == 0:\n",
        "            if year % 400 == 0:\n",
        "                print(f\"{year} is a leap year.!\")\n",
        "            else:\n",
        "                print(f\"{year} is not a leap year.!\")\n",
        "        else:\n",
        "            print(f\"{year} is not a leap year.!\")\n",
        "    else:\n",
        "        print(f\"{year} is not a leap year.!\")\n",
        "\n",
        "if __name__ == \"__main__\":\n",
        "    leap_year()"
      ],
      "metadata": {
        "id": "g4S40Rce6754"
      },
      "execution_count": null,
      "outputs": []
    },
    {
      "cell_type": "code",
      "source": [
        "print(\"04_tall_enough_to_ride\\n\")\n",
        "\n",
        "min_height:int = 50\n",
        "def main():\n",
        "    user:int = int(input(\"How tall are you?...: \"))\n",
        "    if user >= min_height:\n",
        "        print(\"You are tall enough to ride!\")\n",
        "    else:\n",
        "        print(\"you are not tall enough to ride. May be next year..\")\n",
        "\n",
        "if __name__ == \"__main__\":\n",
        "    main()"
      ],
      "metadata": {
        "id": "DyKvJEIh80AU"
      },
      "execution_count": null,
      "outputs": []
    },
    {
      "cell_type": "code",
      "source": [
        "import random\n",
        "print(\"05_random_numbers\\n\")\n",
        "\n",
        "def main():\n",
        "    for i in range(10):\n",
        "        num:list[int] = random.randint(1, 100)\n",
        "        print(num)\n",
        "\n",
        "if __name__ == \"__main__\":\n",
        "    main()"
      ],
      "metadata": {
        "id": "0KjrzRQm_k7i"
      },
      "execution_count": null,
      "outputs": []
    }
  ]
}