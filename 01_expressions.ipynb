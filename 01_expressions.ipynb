{
  "nbformat": 4,
  "nbformat_minor": 0,
  "metadata": {
    "colab": {
      "provenance": [],
      "authorship_tag": "ABX9TyNJgPf0ORecIzVO/Q09yocC",
      "include_colab_link": true
    },
    "kernelspec": {
      "name": "python3",
      "display_name": "Python 3"
    },
    "language_info": {
      "name": "python"
    }
  },
  "cells": [
    {
      "cell_type": "markdown",
      "metadata": {
        "id": "view-in-github",
        "colab_type": "text"
      },
      "source": [
        "<a href=\"https://colab.research.google.com/github/AqeelAhmedBaloch/Assignment-4/blob/main/01_expressions.ipynb\" target=\"_parent\"><img src=\"https://colab.research.google.com/assets/colab-badge.svg\" alt=\"Open In Colab\"/></a>"
      ]
    },
    {
      "cell_type": "code",
      "execution_count": null,
      "metadata": {
        "id": "bhmFH6kwGdSZ"
      },
      "outputs": [],
      "source": [
        "import random\n",
        "\n",
        "print(\"01_dicesimulator\\n\")\n",
        "def roll_dice():\n",
        "    die1:int = random.randint(1,6)\n",
        "    die2:int = random.randint(1,6)\n",
        "    total:int = die1 + die2\n",
        "    print(f\"Total of two dies: {total}\")\n",
        "\n",
        "def main():\n",
        "    die1:int = 10\n",
        "    print(\"die1 in main() start as: \" + str(die1))\n",
        "    roll_dice()\n",
        "    roll_dice()\n",
        "    roll_dice()\n",
        "    print(\"die1 in main() is: \" + str(die1))\n",
        "\n",
        "\n",
        "if __name__ == \"__main__\":\n",
        "    main()"
      ]
    },
    {
      "cell_type": "code",
      "source": [
        "print(\"02_e=mc2\\n\")\n",
        "\n",
        "def energy():\n",
        "    c:int = 299792458\n",
        "    m:int = float(input(\"Enter kilos of mass..: \"))\n",
        "    print(\"e = m*c^2\")\n",
        "    print(\"Mass = \" + str(m) + \" kg\")\n",
        "    print(\"C = \" + str(c) + \" m/s\")\n",
        "    print(\"e = \" + str(m * c ** 2) + \" Jules\")\n",
        "\n",
        "if __name__ == \"__main__\":\n",
        "    energy()"
      ],
      "metadata": {
        "id": "-T7VDJFTGnWf"
      },
      "execution_count": null,
      "outputs": []
    },
    {
      "cell_type": "code",
      "source": [
        "print(\"03_feet_to_inches\\n\")\n",
        "\n",
        "inch:int = 12\n",
        "\n",
        "def foot():\n",
        "    feet:int = int(input(\"Enter feet and i will convert into inches..: \"))\n",
        "    print(f'There are {inch + feet} inches in {feet} feet.')\n",
        "\n",
        "if __name__ == \"__main__\":\n",
        "    foot()"
      ],
      "metadata": {
        "id": "4GChk5SVGp-n"
      },
      "execution_count": null,
      "outputs": []
    },
    {
      "cell_type": "code",
      "source": [
        "import math\n",
        "print(\"04_pythagorean_theorem\\n\")\n",
        "\n",
        "def triangle():\n",
        "    ab:float = float(input(\"Enter the length of side AB..: \"))\n",
        "    ac:float = float(input(\"Enter the length of side AC..: \"))\n",
        "    bc:float = math.sqrt(ab ** 2 + ac ** 2)\n",
        "    print(f'The length of BC (the hypotenuse is : {bc})')\n",
        "\n",
        "if __name__ == \"__main__\":\n",
        "    triangle()"
      ],
      "metadata": {
        "id": "gwUSRVueG2iP"
      },
      "execution_count": null,
      "outputs": []
    },
    {
      "cell_type": "code",
      "source": [
        "print(\"05_remainder_division\\n\")\n",
        "\n",
        "def reminder():\n",
        "    num1:int = int(input(\"Enter an integer to be divided...: \"))\n",
        "    num2:int = int(input(\"Enter an integer to divide by....: \"))\n",
        "\n",
        "    quotient:int = num1 // num2\n",
        "    reminder:int = num1 % num2\n",
        "    print(f'The result of this division is {quotient} with a remainder of {reminder}\\n')\n",
        "\n",
        "if __name__ == \"__main__\":\n",
        "    reminder()"
      ],
      "metadata": {
        "id": "pX9uCJ-aG4z2"
      },
      "execution_count": null,
      "outputs": []
    },
    {
      "cell_type": "code",
      "source": [
        "import random\n",
        "print(\"06_rolldice\\n\")\n",
        "\n",
        "def die():\n",
        "    die1:int = random.randint(1, 6)\n",
        "    die2:int = random.randint(1, 6)\n",
        "    total:int = int(die1 + die2)\n",
        "    print(\"First die  : \" + str(die1))\n",
        "    print(\"Second die : \" + str(die2))\n",
        "    print(f'Total of two dice: {total}\\n')\n",
        "\n",
        "if __name__ == '__main__':\n",
        "    die()"
      ],
      "metadata": {
        "id": "cDyOm3_sG7J2"
      },
      "execution_count": null,
      "outputs": []
    },
    {
      "cell_type": "code",
      "source": [
        "print(\"06_seconds_in_year\\n\")\n",
        "\n",
        "days_in_year = 365\n",
        "hours_per_day = 24\n",
        "minutes_per_hour = 60\n",
        "seconds_per_minute = 60\n",
        "\n",
        "def seconds():\n",
        "    print(f'There are {days_in_year * hours_per_day * minutes_per_hour * seconds_per_minute} seconds in a year.')\n",
        "\n",
        "if __name__ == \"__main__\":\n",
        "    seconds()"
      ],
      "metadata": {
        "id": "MAmdDagGG_Oe"
      },
      "execution_count": null,
      "outputs": []
    },
    {
      "cell_type": "code",
      "source": [
        "print(\"07_tiny_mad_lib\\n\")\n",
        "\n",
        "def mad_lib():\n",
        "    noun:str = str(input(\"Enter a noun: \"))\n",
        "    adjective:str = str(input(\"Enter an adjective: \"))\n",
        "    verb:str = str(input(\"Enter a verb: \"))\n",
        "    print(f'Do you {verb} your {adjective} {noun}? ')\n",
        "\n",
        "if __name__ == \"__main__\":\n",
        "    mad_lib()"
      ],
      "metadata": {
        "id": "WNCw1pEsHCsu"
      },
      "execution_count": null,
      "outputs": []
    }
  ]
}