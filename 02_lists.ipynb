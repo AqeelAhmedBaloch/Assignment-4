{
  "nbformat": 4,
  "nbformat_minor": 0,
  "metadata": {
    "colab": {
      "provenance": [],
      "authorship_tag": "ABX9TyO1MpbPaZ2CQP+QCRvlQuGj",
      "include_colab_link": true
    },
    "kernelspec": {
      "name": "python3",
      "display_name": "Python 3"
    },
    "language_info": {
      "name": "python"
    }
  },
  "cells": [
    {
      "cell_type": "markdown",
      "metadata": {
        "id": "view-in-github",
        "colab_type": "text"
      },
      "source": [
        "<a href=\"https://colab.research.google.com/github/AqeelAhmedBaloch/Assignment-4/blob/main/02_lists.ipynb\" target=\"_parent\"><img src=\"https://colab.research.google.com/assets/colab-badge.svg\" alt=\"Open In Colab\"/></a>"
      ]
    },
    {
      "cell_type": "code",
      "execution_count": null,
      "metadata": {
        "colab": {
          "base_uri": "https://localhost:8080/"
        },
        "id": "v4jOU_rpJLnc",
        "outputId": "ed66d785-503c-45aa-d227-10e3489f27e1"
      },
      "outputs": [
        {
          "output_type": "stream",
          "name": "stdout",
          "text": [
            "01_add_many_number\n",
            "15\n"
          ]
        }
      ],
      "source": [
        "print(\"01_add_many_number\")\n",
        "\n",
        "def add_number(numbers)->int:\n",
        "    num:int = 0\n",
        "    for i in numbers:\n",
        "        num = num + i\n",
        "    return num\n",
        "\n",
        "def main():\n",
        "    numbers:list[int] = [1,2,3,4,5]\n",
        "    sum = add_number(numbers)\n",
        "    print(sum)\n",
        "\n",
        "if __name__ == '__main__':\n",
        "    main()"
      ]
    },
    {
      "cell_type": "code",
      "source": [
        "print(\"02_double_list\")\n",
        "\n",
        "def main():\n",
        "    numbers:list[int] = [1,2,3,4,5]\n",
        "    for i in range(len(numbers)):\n",
        "        index = numbers[i]\n",
        "        numbers[i] = index * 2\n",
        "    print(numbers)\n",
        "\n",
        "if __name__ == '__main__':\n",
        "    main()"
      ],
      "metadata": {
        "colab": {
          "base_uri": "https://localhost:8080/"
        },
        "id": "r0sf43hqMUJK",
        "outputId": "a496a3e2-1470-4cea-a333-ac5d3dbe8d53"
      },
      "execution_count": null,
      "outputs": [
        {
          "output_type": "stream",
          "name": "stdout",
          "text": [
            "02_double_list\n",
            "[2, 4, 6, 8, 10]\n"
          ]
        }
      ]
    },
    {
      "cell_type": "code",
      "source": [
        "print(\"04_flowing_with_data_structures\")\n",
        "\n",
        "def add_three_copies(lst,data):\n",
        "    for i in range(5):\n",
        "        lst.append(data)\n",
        "\n",
        "def main():\n",
        "    message = input(\"Enter a message to copy..: \")\n",
        "    lst = []\n",
        "    print(\"Before list: \", lst)\n",
        "    add_three_copies(lst,message)\n",
        "    print(\"After lst: \", lst)\n",
        "\n",
        "if __name__ == \"__main__\":\n",
        "    main()"
      ],
      "metadata": {
        "id": "OM3aYRL3oiGU"
      },
      "execution_count": null,
      "outputs": []
    },
    {
      "cell_type": "code",
      "source": [
        "print(\"05_get_first_element\\n\")\n",
        "\n",
        "def get_first_element(lst):\n",
        "    print(lst[0])\n",
        "\n",
        "def get_lst():\n",
        "    lst = []\n",
        "    elem:str = input(\"Enter and element to add to the list ..: \")\n",
        "\n",
        "    while elem !=\"\":\n",
        "        lst.append(elem)\n",
        "        elem = input(\"Enter and element to add to the List...: \")\n",
        "    return lst\n",
        "\n",
        "def main():\n",
        "    lst = get_lst()\n",
        "    get_first_element(lst)\n",
        "\n",
        "if __name__ == \"__main__\":\n",
        "    main()"
      ],
      "metadata": {
        "id": "P3BfadCZonOU"
      },
      "execution_count": null,
      "outputs": []
    },
    {
      "cell_type": "code",
      "source": [
        "print(\"06_get_last_element\")\n",
        "\n",
        "def get_last_element(lst):\n",
        "    print(lst[-1])\n",
        "\n",
        "def get_lst():\n",
        "    lst = []\n",
        "    elem:str = input(\"Enter an element to add to the list..: \")\n",
        "    while elem != \"\":\n",
        "        lst.append(elem)\n",
        "        elem = input(\"Enter an element to add to the list..: \")\n",
        "    return lst\n",
        "\n",
        "def main():\n",
        "    lst = get_lst()\n",
        "    get_last_element(lst)\n",
        "\n",
        "if __name__ == \"__main__\":\n",
        "    main()"
      ],
      "metadata": {
        "colab": {
          "base_uri": "https://localhost:8080/"
        },
        "id": "Xt-BqZ2ooreU",
        "outputId": "58d800e2-f4e3-4519-9009-a1adbbebba89"
      },
      "execution_count": null,
      "outputs": [
        {
          "output_type": "stream",
          "name": "stdout",
          "text": [
            "06_get_last_element\n",
            "Enter an element to add to the list..: 4\n",
            "Enter an element to add to the list..: 4\n",
            "Enter an element to add to the list..: 4\n",
            "Enter an element to add to the list..: \n",
            "4\n"
          ]
        }
      ]
    },
    {
      "cell_type": "code",
      "source": [
        "print(\"07_get_list\")\n",
        "\n",
        "def main():\n",
        "    lst = []\n",
        "    val = input(\"Enter a value to add to the list..: \")\n",
        "    while val:\n",
        "        lst.append(val)\n",
        "        val =  input(\"Enter a value to add to the list..: \")\n",
        "    print(\"Here's the list: \" , lst)\n",
        "\n",
        "if __name__ == \"__main__\":\n",
        "    main()"
      ],
      "metadata": {
        "id": "OZa380c_ovnk"
      },
      "execution_count": null,
      "outputs": []
    },
    {
      "cell_type": "code",
      "source": [
        "print(\"08_shorten\\n\")\n",
        "\n",
        "MAX_LENGTH:int = 3\n",
        "\n",
        "def shorten(lst):\n",
        "    while len(lst) >= MAX_LENGTH:\n",
        "        last_element = lst.pop()\n",
        "        print(last_element)\n",
        "\n",
        "def get_lst():\n",
        "    lst = []\n",
        "    element = input(\"Enter an element to add to the list..: \")\n",
        "    while element != \"\":\n",
        "        lst.append(element)\n",
        "        element = input(\"Enter an element to add to the list..: \")\n",
        "    return lst\n",
        "\n",
        "def main():\n",
        "    lst = get_lst()\n",
        "    shorten(lst)\n",
        "\n",
        "if __name__ == \"__main__\":\n",
        "    main()"
      ],
      "metadata": {
        "id": "_gfkLkOBo3q8"
      },
      "execution_count": null,
      "outputs": []
    },
    {
      "cell_type": "code",
      "source": [
        "import pygame\n",
        "import time\n",
        "\n",
        "print(\"03_erase_canvas\\n\")\n",
        "pygame.init()\n",
        "\n",
        "# Canvas settings\n",
        "CANVA_WIDTH = 400\n",
        "CANVA_HEIGHT = 400\n",
        "CELL_SIZE = 40\n",
        "ERASER_SIZE = 20\n",
        "\n",
        "# Colors\n",
        "BLUE = (0, 0, 255)\n",
        "WHITE = (255, 255, 255)\n",
        "PINK = (225, 182, 193)\n",
        "\n",
        "# Pygame screen\n",
        "screen = pygame.display.set_mode((CANVA_WIDTH, CANVA_HEIGHT))\n",
        "pygame.display.set_caption(\"Enter effect in pygame\")\n",
        "\n",
        "# Create a grid of rectangles\n",
        "grid = []\n",
        "for row in range(0, CANVA_HEIGHT, CELL_SIZE):\n",
        "    for col in range(0, CANVA_WIDTH, CELL_SIZE):\n",
        "        rect = pygame.Rect(col, row, CELL_SIZE, CELL_SIZE)\n",
        "        grid.append(rect)\n",
        "\n",
        "# Eraser settings\n",
        "eraser = pygame.Rect(200, 200, ERASER_SIZE, ERASER_SIZE)\n",
        "\n",
        "# Main loop\n",
        "running = True\n",
        "while running:\n",
        "    screen.fill(WHITE)  # Clear the screen\n",
        "\n",
        "    mouse_x, mouse_y = pygame.mouse.get_pos()\n",
        "    eraser.topleft = (mouse_x - ERASER_SIZE // 2, mouse_y - ERASER_SIZE // 2)\n",
        "\n",
        "    # Draw the grid (Only draw the rectangles not colliding with eraser)\n",
        "    for rect in grid:\n",
        "        if not eraser.colliderect(rect):  # Skip erasing part\n",
        "            pygame.draw.rect(screen, BLUE, rect)\n",
        "\n",
        "    # Draw the eraser\n",
        "    pygame.draw.rect(screen, PINK, eraser)\n",
        "\n",
        "    # Event handling\n",
        "    for event in pygame.event.get():\n",
        "        if event.type == pygame.QUIT:\n",
        "            running = False\n",
        "\n",
        "    pygame.display.flip()\n",
        "    pygame.time.delay(50)  # Better alternative to time.sleep\n",
        "\n",
        "pygame.quit()\n"
      ],
      "metadata": {
        "id": "rwYBvloVL2L3"
      },
      "execution_count": null,
      "outputs": []
    }
  ]
}