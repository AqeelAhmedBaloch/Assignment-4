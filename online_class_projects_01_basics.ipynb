{
  "nbformat": 4,
  "nbformat_minor": 0,
  "metadata": {
    "colab": {
      "provenance": [],
      "authorship_tag": "ABX9TyP1OQ3hvVt0RhvUklvzxbK1",
      "include_colab_link": true
    },
    "kernelspec": {
      "name": "python3",
      "display_name": "Python 3"
    },
    "language_info": {
      "name": "python"
    }
  },
  "cells": [
    {
      "cell_type": "markdown",
      "metadata": {
        "id": "view-in-github",
        "colab_type": "text"
      },
      "source": [
        "<a href=\"https://colab.research.google.com/github/AqeelAhmedBaloch/Assignment-4/blob/main/online_class_projects_01_basics.ipynb\" target=\"_parent\"><img src=\"https://colab.research.google.com/assets/colab-badge.svg\" alt=\"Open In Colab\"/></a>"
      ]
    },
    {
      "cell_type": "code",
      "execution_count": null,
      "metadata": {
        "id": "SmMBJ6VdB0xw"
      },
      "outputs": [],
      "source": [
        "print(\"00_joke_bot\\n\")\n",
        "\n",
        "PROMPT:str = \"What do you want to do?...: \"\n",
        "JOKE: str = \"Why did the scarecrow win an award? \\nBecause he was outstanding in his field! 🌾😂\"\n",
        "SORRY:str = \"Sorry I only tell you jokes...😂\"\n",
        "\n",
        "def main():\n",
        "    # user_input = user_input.strip().lower()\n",
        "    user_input = input(PROMPT)\n",
        "    user_input = user_input.strip().lower()\n",
        "\n",
        "    if \"joke\" in user_input:\n",
        "        print(JOKE)\n",
        "    else:\n",
        "        print(SORRY)\n",
        "\n",
        "if __name__ == \"__main__\":\n",
        "    main()"
      ]
    },
    {
      "cell_type": "code",
      "source": [
        "print(\"01_double_it\\n\")\n",
        "\n",
        "def main():\n",
        "    user_input = int(input(\"Enter a number: \"))\n",
        "    while user_input < 100:\n",
        "        user_input = user_input * 2\n",
        "        print(user_input)\n",
        "\n",
        "if __name__ == \"__main__\":\n",
        "    main()"
      ],
      "metadata": {
        "id": "eeS5AkHFFbaO"
      },
      "execution_count": null,
      "outputs": []
    },
    {
      "cell_type": "code",
      "source": [
        "print(\"02_liftoff\\n\")\n",
        "\n",
        "def main():\n",
        "    for i in range(10, 0, -1):\n",
        "        print(i, end=\" \")\n",
        "    print(\"Liftoff!🚀\")\n",
        "\n",
        "if __name__ == \"__main__\":\n",
        "    main()"
      ],
      "metadata": {
        "id": "QeCZWNRrF8D6"
      },
      "execution_count": null,
      "outputs": []
    },
    {
      "cell_type": "code",
      "source": [
        "import random\n",
        "print(\"03_guess_my_number\\n\")\n",
        "\n",
        "def main():\n",
        "    secret_number = random.randint(1, 100)\n",
        "    print(\"I am thinking of a number between 1 and 100... \")\n",
        "\n",
        "    guess = int(input(\"Enter a guess...: \"))\n",
        "    while guess != secret_number:\n",
        "        if guess < secret_number:\n",
        "            print(\"Your guess is Too low!...:\")\n",
        "        else:\n",
        "            print(\"Your guess is Too high!...:\")\n",
        "        guess = int(input(\"Enter a guess...: \"))\n",
        "    print(f\"Congratulation! the number was...: {secret_number}\")\n",
        "\n",
        "if __name__ == \"__main__\":\n",
        "    main()"
      ],
      "metadata": {
        "id": "fv3Vza4IGUz1"
      },
      "execution_count": null,
      "outputs": []
    },
    {
      "cell_type": "code",
      "source": [
        "import random\n",
        "print(\"04_random_numbers\\n\")\n",
        "\n",
        "def main():\n",
        "    for i in range(10):\n",
        "        print(random.randint(1, 100), end=\" \")\n",
        "\n",
        "if __name__ == \"__main__\":\n",
        "    main()"
      ],
      "metadata": {
        "id": "DerWoZqHHnq4"
      },
      "execution_count": null,
      "outputs": []
    }
  ]
}